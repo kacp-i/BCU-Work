{
  "nbformat": 4,
  "nbformat_minor": 0,
  "metadata": {
    "colab": {
      "provenance": [],
      "authorship_tag": "ABX9TyMna+hgFGF4GXe9H7ba8TUM",
      "include_colab_link": true
    },
    "kernelspec": {
      "name": "python3",
      "display_name": "Python 3"
    },
    "language_info": {
      "name": "python"
    }
  },
  "cells": [
    {
      "cell_type": "markdown",
      "metadata": {
        "id": "view-in-github",
        "colab_type": "text"
      },
      "source": [
        "<a href=\"https://colab.research.google.com/github/kacp-i/BCU-Work/blob/main/Y1%20S2%20CMP-4294%20-%20Introduction%20to%20AI/code_for_ai_report.ipynb\" target=\"_parent\"><img src=\"https://colab.research.google.com/assets/colab-badge.svg\" alt=\"Open In Colab\"/></a>"
      ]
    },
    {
      "cell_type": "code",
      "execution_count": null,
      "metadata": {
        "colab": {
          "base_uri": "https://localhost:8080/",
          "height": 73
        },
        "id": "U72vKgdlBTDL",
        "outputId": "3f2bf200-2b3f-4590-d0fb-dc29a2975dad"
      },
      "outputs": [
        {
          "output_type": "display_data",
          "data": {
            "text/plain": [
              "<IPython.core.display.HTML object>"
            ],
            "text/html": [
              "\n",
              "     <input type=\"file\" id=\"files-4c68ea89-7689-4fc7-bcdb-015879b4b5df\" name=\"files[]\" multiple disabled\n",
              "        style=\"border:none\" />\n",
              "     <output id=\"result-4c68ea89-7689-4fc7-bcdb-015879b4b5df\">\n",
              "      Upload widget is only available when the cell has been executed in the\n",
              "      current browser session. Please rerun this cell to enable.\n",
              "      </output>\n",
              "      <script>// Copyright 2017 Google LLC\n",
              "//\n",
              "// Licensed under the Apache License, Version 2.0 (the \"License\");\n",
              "// you may not use this file except in compliance with the License.\n",
              "// You may obtain a copy of the License at\n",
              "//\n",
              "//      http://www.apache.org/licenses/LICENSE-2.0\n",
              "//\n",
              "// Unless required by applicable law or agreed to in writing, software\n",
              "// distributed under the License is distributed on an \"AS IS\" BASIS,\n",
              "// WITHOUT WARRANTIES OR CONDITIONS OF ANY KIND, either express or implied.\n",
              "// See the License for the specific language governing permissions and\n",
              "// limitations under the License.\n",
              "\n",
              "/**\n",
              " * @fileoverview Helpers for google.colab Python module.\n",
              " */\n",
              "(function(scope) {\n",
              "function span(text, styleAttributes = {}) {\n",
              "  const element = document.createElement('span');\n",
              "  element.textContent = text;\n",
              "  for (const key of Object.keys(styleAttributes)) {\n",
              "    element.style[key] = styleAttributes[key];\n",
              "  }\n",
              "  return element;\n",
              "}\n",
              "\n",
              "// Max number of bytes which will be uploaded at a time.\n",
              "const MAX_PAYLOAD_SIZE = 100 * 1024;\n",
              "\n",
              "function _uploadFiles(inputId, outputId) {\n",
              "  const steps = uploadFilesStep(inputId, outputId);\n",
              "  const outputElement = document.getElementById(outputId);\n",
              "  // Cache steps on the outputElement to make it available for the next call\n",
              "  // to uploadFilesContinue from Python.\n",
              "  outputElement.steps = steps;\n",
              "\n",
              "  return _uploadFilesContinue(outputId);\n",
              "}\n",
              "\n",
              "// This is roughly an async generator (not supported in the browser yet),\n",
              "// where there are multiple asynchronous steps and the Python side is going\n",
              "// to poll for completion of each step.\n",
              "// This uses a Promise to block the python side on completion of each step,\n",
              "// then passes the result of the previous step as the input to the next step.\n",
              "function _uploadFilesContinue(outputId) {\n",
              "  const outputElement = document.getElementById(outputId);\n",
              "  const steps = outputElement.steps;\n",
              "\n",
              "  const next = steps.next(outputElement.lastPromiseValue);\n",
              "  return Promise.resolve(next.value.promise).then((value) => {\n",
              "    // Cache the last promise value to make it available to the next\n",
              "    // step of the generator.\n",
              "    outputElement.lastPromiseValue = value;\n",
              "    return next.value.response;\n",
              "  });\n",
              "}\n",
              "\n",
              "/**\n",
              " * Generator function which is called between each async step of the upload\n",
              " * process.\n",
              " * @param {string} inputId Element ID of the input file picker element.\n",
              " * @param {string} outputId Element ID of the output display.\n",
              " * @return {!Iterable<!Object>} Iterable of next steps.\n",
              " */\n",
              "function* uploadFilesStep(inputId, outputId) {\n",
              "  const inputElement = document.getElementById(inputId);\n",
              "  inputElement.disabled = false;\n",
              "\n",
              "  const outputElement = document.getElementById(outputId);\n",
              "  outputElement.innerHTML = '';\n",
              "\n",
              "  const pickedPromise = new Promise((resolve) => {\n",
              "    inputElement.addEventListener('change', (e) => {\n",
              "      resolve(e.target.files);\n",
              "    });\n",
              "  });\n",
              "\n",
              "  const cancel = document.createElement('button');\n",
              "  inputElement.parentElement.appendChild(cancel);\n",
              "  cancel.textContent = 'Cancel upload';\n",
              "  const cancelPromise = new Promise((resolve) => {\n",
              "    cancel.onclick = () => {\n",
              "      resolve(null);\n",
              "    };\n",
              "  });\n",
              "\n",
              "  // Wait for the user to pick the files.\n",
              "  const files = yield {\n",
              "    promise: Promise.race([pickedPromise, cancelPromise]),\n",
              "    response: {\n",
              "      action: 'starting',\n",
              "    }\n",
              "  };\n",
              "\n",
              "  cancel.remove();\n",
              "\n",
              "  // Disable the input element since further picks are not allowed.\n",
              "  inputElement.disabled = true;\n",
              "\n",
              "  if (!files) {\n",
              "    return {\n",
              "      response: {\n",
              "        action: 'complete',\n",
              "      }\n",
              "    };\n",
              "  }\n",
              "\n",
              "  for (const file of files) {\n",
              "    const li = document.createElement('li');\n",
              "    li.append(span(file.name, {fontWeight: 'bold'}));\n",
              "    li.append(span(\n",
              "        `(${file.type || 'n/a'}) - ${file.size} bytes, ` +\n",
              "        `last modified: ${\n",
              "            file.lastModifiedDate ? file.lastModifiedDate.toLocaleDateString() :\n",
              "                                    'n/a'} - `));\n",
              "    const percent = span('0% done');\n",
              "    li.appendChild(percent);\n",
              "\n",
              "    outputElement.appendChild(li);\n",
              "\n",
              "    const fileDataPromise = new Promise((resolve) => {\n",
              "      const reader = new FileReader();\n",
              "      reader.onload = (e) => {\n",
              "        resolve(e.target.result);\n",
              "      };\n",
              "      reader.readAsArrayBuffer(file);\n",
              "    });\n",
              "    // Wait for the data to be ready.\n",
              "    let fileData = yield {\n",
              "      promise: fileDataPromise,\n",
              "      response: {\n",
              "        action: 'continue',\n",
              "      }\n",
              "    };\n",
              "\n",
              "    // Use a chunked sending to avoid message size limits. See b/62115660.\n",
              "    let position = 0;\n",
              "    do {\n",
              "      const length = Math.min(fileData.byteLength - position, MAX_PAYLOAD_SIZE);\n",
              "      const chunk = new Uint8Array(fileData, position, length);\n",
              "      position += length;\n",
              "\n",
              "      const base64 = btoa(String.fromCharCode.apply(null, chunk));\n",
              "      yield {\n",
              "        response: {\n",
              "          action: 'append',\n",
              "          file: file.name,\n",
              "          data: base64,\n",
              "        },\n",
              "      };\n",
              "\n",
              "      let percentDone = fileData.byteLength === 0 ?\n",
              "          100 :\n",
              "          Math.round((position / fileData.byteLength) * 100);\n",
              "      percent.textContent = `${percentDone}% done`;\n",
              "\n",
              "    } while (position < fileData.byteLength);\n",
              "  }\n",
              "\n",
              "  // All done.\n",
              "  yield {\n",
              "    response: {\n",
              "      action: 'complete',\n",
              "    }\n",
              "  };\n",
              "}\n",
              "\n",
              "scope.google = scope.google || {};\n",
              "scope.google.colab = scope.google.colab || {};\n",
              "scope.google.colab._files = {\n",
              "  _uploadFiles,\n",
              "  _uploadFilesContinue,\n",
              "};\n",
              "})(self);\n",
              "</script> "
            ]
          },
          "metadata": {}
        },
        {
          "output_type": "stream",
          "name": "stdout",
          "text": [
            "Saving car_prices.csv to car_prices.csv\n"
          ]
        }
      ],
      "source": [
        "from google.colab import files\n",
        "file = files.upload()"
      ]
    },
    {
      "cell_type": "code",
      "source": [
        "import pandas as pd\n",
        "import numpy as np\n",
        "import matplotlib.pyplot as plt\n",
        "import seaborn as sns\n",
        "import warnings\n",
        "\n",
        "warnings.filterwarnings('ignore')\n",
        "pd.set_option('display.max_columns', None)"
      ],
      "metadata": {
        "id": "-66BpozcCS92"
      },
      "execution_count": null,
      "outputs": []
    },
    {
      "cell_type": "code",
      "source": [
        "data = pd.read_csv('car_prices.csv')\n",
        "data.info()"
      ],
      "metadata": {
        "id": "ohieiqI1CVpV",
        "colab": {
          "base_uri": "https://localhost:8080/"
        },
        "outputId": "d0e9e732-9349-452c-f154-7f4be55ad3a4"
      },
      "execution_count": null,
      "outputs": [
        {
          "output_type": "stream",
          "name": "stdout",
          "text": [
            "<class 'pandas.core.frame.DataFrame'>\n",
            "RangeIndex: 558837 entries, 0 to 558836\n",
            "Data columns (total 16 columns):\n",
            " #   Column        Non-Null Count   Dtype  \n",
            "---  ------        --------------   -----  \n",
            " 0   year          558837 non-null  int64  \n",
            " 1   make          548536 non-null  object \n",
            " 2   model         548438 non-null  object \n",
            " 3   trim          548186 non-null  object \n",
            " 4   body          545642 non-null  object \n",
            " 5   transmission  493485 non-null  object \n",
            " 6   vin           558833 non-null  object \n",
            " 7   state         558837 non-null  object \n",
            " 8   condition     547017 non-null  float64\n",
            " 9   odometer      558743 non-null  float64\n",
            " 10  color         558088 non-null  object \n",
            " 11  interior      558088 non-null  object \n",
            " 12  seller        558837 non-null  object \n",
            " 13  mmr           558799 non-null  float64\n",
            " 14  sellingprice  558825 non-null  float64\n",
            " 15  saledate      558825 non-null  object \n",
            "dtypes: float64(4), int64(1), object(11)\n",
            "memory usage: 68.2+ MB\n"
          ]
        }
      ]
    },
    {
      "cell_type": "code",
      "source": [
        "# Check for null values\n",
        "data.isnull().sum()"
      ],
      "metadata": {
        "id": "LeYkm_xw5qwZ",
        "colab": {
          "base_uri": "https://localhost:8080/"
        },
        "outputId": "2008f1aa-7b41-46e6-fb6d-2d9f3c107437"
      },
      "execution_count": null,
      "outputs": [
        {
          "output_type": "execute_result",
          "data": {
            "text/plain": [
              "year                0\n",
              "make            10301\n",
              "model           10399\n",
              "trim            10651\n",
              "body            13195\n",
              "transmission    65352\n",
              "vin                 4\n",
              "state               0\n",
              "condition       11820\n",
              "odometer           94\n",
              "color             749\n",
              "interior          749\n",
              "seller              0\n",
              "mmr                38\n",
              "sellingprice       12\n",
              "saledate           12\n",
              "dtype: int64"
            ]
          },
          "metadata": {},
          "execution_count": 164
        }
      ]
    },
    {
      "cell_type": "code",
      "source": [
        "# Drop rows with null values\n",
        "data.dropna(inplace=True)"
      ],
      "metadata": {
        "id": "iriey0bxnvvP"
      },
      "execution_count": null,
      "outputs": []
    },
    {
      "cell_type": "code",
      "source": [
        "# Check to confirm the rows with null values are dropped\n",
        "data.isnull().sum()"
      ],
      "metadata": {
        "colab": {
          "base_uri": "https://localhost:8080/"
        },
        "id": "5UMMptfcn5jA",
        "outputId": "5c0df380-4a49-4cce-c25e-e98e88104074"
      },
      "execution_count": null,
      "outputs": [
        {
          "output_type": "execute_result",
          "data": {
            "text/plain": [
              "year            0\n",
              "make            0\n",
              "model           0\n",
              "trim            0\n",
              "body            0\n",
              "transmission    0\n",
              "vin             0\n",
              "state           0\n",
              "condition       0\n",
              "odometer        0\n",
              "color           0\n",
              "interior        0\n",
              "seller          0\n",
              "mmr             0\n",
              "sellingprice    0\n",
              "saledate        0\n",
              "dtype: int64"
            ]
          },
          "metadata": {},
          "execution_count": 166
        }
      ]
    },
    {
      "cell_type": "code",
      "source": [
        "# Check for any duplicated rows\n",
        "data.duplicated().sum()"
      ],
      "metadata": {
        "id": "ZKNN-LYq5s7w",
        "colab": {
          "base_uri": "https://localhost:8080/"
        },
        "outputId": "c38ec5e9-51f6-4775-9787-8a2104b24b64"
      },
      "execution_count": null,
      "outputs": [
        {
          "output_type": "execute_result",
          "data": {
            "text/plain": [
              "0"
            ]
          },
          "metadata": {},
          "execution_count": 167
        }
      ]
    },
    {
      "cell_type": "code",
      "source": [
        "data['make'].value_counts() # looks at the column of make and lists how many entries have each specific make"
      ],
      "metadata": {
        "id": "a5k44Wtsn66C",
        "colab": {
          "base_uri": "https://localhost:8080/"
        },
        "outputId": "3623f981-93c8-4987-8945-5b89a2cc8288"
      },
      "execution_count": null,
      "outputs": [
        {
          "output_type": "execute_result",
          "data": {
            "text/plain": [
              "make\n",
              "Ford             81013\n",
              "Chevrolet        54150\n",
              "Nissan           44043\n",
              "Toyota           35313\n",
              "Dodge            27181\n",
              "Honda            24781\n",
              "Hyundai          18659\n",
              "BMW              17509\n",
              "Kia              15828\n",
              "Chrysler         15133\n",
              "Infiniti         14011\n",
              "Mercedes-Benz    14008\n",
              "Jeep             12735\n",
              "Volkswagen       10780\n",
              "Lexus            10409\n",
              "GMC               9217\n",
              "Mazda             6930\n",
              "Cadillac          6315\n",
              "Lincoln           4926\n",
              "Audi              4802\n",
              "Acura             4503\n",
              "Buick             4470\n",
              "Subaru            4369\n",
              "Ram               4044\n",
              "Pontiac           4018\n",
              "Mitsubishi        3661\n",
              "Volvo             3082\n",
              "MINI              2946\n",
              "Saturn            2570\n",
              "Mercury           1571\n",
              "Scion             1545\n",
              "Land Rover        1322\n",
              "Jaguar            1257\n",
              "Porsche           1157\n",
              "Suzuki             977\n",
              "HUMMER             768\n",
              "FIAT               725\n",
              "Saab               416\n",
              "smart              343\n",
              "Oldsmobile         318\n",
              "Isuzu              179\n",
              "Maserati           109\n",
              "Bentley            105\n",
              "Aston Martin        24\n",
              "Tesla               23\n",
              "Ferrari             17\n",
              "Rolls-Royce         16\n",
              "Plymouth            16\n",
              "Geo                 16\n",
              "Fisker               9\n",
              "Lamborghini          3\n",
              "Daewoo               2\n",
              "Lotus                1\n",
              "Name: count, dtype: int64"
            ]
          },
          "metadata": {},
          "execution_count": 168
        }
      ]
    },
    {
      "cell_type": "code",
      "source": [
        "# displaying all the columns\n",
        "\"\"\"display(data['make'].value_counts())\n",
        "display(data['model'].value_counts())\n",
        "display(data['trim'].value_counts())\n",
        "display(data['body'].value_counts())\n",
        "display(data['transmission'].value_counts())\n",
        "display(data['state'].value_counts())\n",
        "display(data['color'].value_counts())\n",
        "display(data['interior'].value_counts())\"\"\""
      ],
      "metadata": {
        "id": "Iw1d74t_52Cy"
      },
      "execution_count": null,
      "outputs": []
    },
    {
      "cell_type": "code",
      "source": [
        "from sklearn.preprocessing import LabelEncoder\n",
        "from sklearn.preprocessing import OneHotEncoder\n",
        "from sklearn.compose import ColumnTransformer"
      ],
      "metadata": {
        "id": "MJtP-vLz543j"
      },
      "execution_count": null,
      "outputs": []
    },
    {
      "cell_type": "code",
      "source": [
        "# Creating a label encoder for columns\n",
        "lblMake = LabelEncoder()\n",
        "lblModel = LabelEncoder()\n",
        "lblTrim = LabelEncoder()\n",
        "lblBody = LabelEncoder()\n",
        "lblTransmission = LabelEncoder()\n",
        "lblState = LabelEncoder()\n",
        "lblColor = LabelEncoder()\n",
        "lblInterior = LabelEncoder()\n",
        "\n",
        "# The fit object creates a new column for each label and fits the non-numerical\n",
        "# values into numerical values by looking at each new instance of a value and\n",
        "# assigning a number to it\n",
        "lblMake.fit(data['make'].drop_duplicates())\n",
        "lblModel.fit(data['model'].drop_duplicates())\n",
        "lblTrim.fit(data['trim'].drop_duplicates())\n",
        "lblBody.fit(data['body'].drop_duplicates())\n",
        "lblTransmission.fit(data['transmission'].drop_duplicates())\n",
        "lblState.fit(data['state'].drop_duplicates())\n",
        "lblColor.fit(data['color'].drop_duplicates())\n",
        "lblInterior.fit(data['interior'].drop_duplicates())\n",
        "\n",
        "# Applying the encoding and saving the results into new columns\n",
        "# Duplicates are not dropped here because we want to transform all the rows\n",
        "data['makeEnc'] = lblMake.transform(data['make'])\n",
        "data['modelEnc'] = lblModel.transform(data['model'])\n",
        "data['trimEnc'] = lblTrim.transform(data['trim'])\n",
        "data['bodyEnc'] = lblBody.transform(data['body'])\n",
        "data['transmissionEnc'] = lblTransmission.transform(data['transmission'])\n",
        "data['stateEnc'] = lblState.transform(data['state'])\n",
        "data['colorEnc'] = lblColor.transform(data['color'])\n",
        "data['interiorEnc'] = lblInterior.transform(data['interior'])"
      ],
      "metadata": {
        "id": "zsSlXwbS5-ng"
      },
      "execution_count": null,
      "outputs": []
    },
    {
      "cell_type": "code",
      "source": [
        "# Checking the table after creating the new columns\n",
        "# Displays first 10 rows\n",
        "data.head(10)"
      ],
      "metadata": {
        "id": "LXNCSizE5_5f",
        "colab": {
          "base_uri": "https://localhost:8080/",
          "height": 1000
        },
        "outputId": "3f8e711c-7bc6-4706-eeac-8cc247b2c39b"
      },
      "execution_count": null,
      "outputs": [
        {
          "output_type": "execute_result",
          "data": {
            "text/plain": [
              "   year       make                model                       trim  \\\n",
              "0  2015        Kia              Sorento                         LX   \n",
              "1  2015        Kia              Sorento                         LX   \n",
              "2  2014        BMW             3 Series                 328i SULEV   \n",
              "3  2015      Volvo                  S60                         T5   \n",
              "4  2014        BMW  6 Series Gran Coupe                       650i   \n",
              "5  2015     Nissan               Altima                      2.5 S   \n",
              "6  2014        BMW                   M5                       Base   \n",
              "7  2014  Chevrolet                Cruze                        1LT   \n",
              "8  2014       Audi                   A4  2.0T Premium Plus quattro   \n",
              "9  2014  Chevrolet               Camaro                         LT   \n",
              "\n",
              "          body transmission                vin state  condition  odometer  \\\n",
              "0          SUV    automatic  5xyktca69fg566472    ca        5.0   16639.0   \n",
              "1          SUV    automatic  5xyktca69fg561319    ca        5.0    9393.0   \n",
              "2        Sedan    automatic  wba3c1c51ek116351    ca       45.0    1331.0   \n",
              "3        Sedan    automatic  yv1612tb4f1310987    ca       41.0   14282.0   \n",
              "4        Sedan    automatic  wba6b2c57ed129731    ca       43.0    2641.0   \n",
              "5        Sedan    automatic  1n4al3ap1fn326013    ca        1.0    5554.0   \n",
              "6        Sedan    automatic  wbsfv9c51ed593089    ca       34.0   14943.0   \n",
              "7        Sedan    automatic  1g1pc5sb2e7128460    ca        2.0   28617.0   \n",
              "8        Sedan    automatic  wauffafl3en030343    ca       42.0    9557.0   \n",
              "9  Convertible    automatic  2g1fb3d37e9218789    ca        3.0    4809.0   \n",
              "\n",
              "   color interior                                             seller      mmr  \\\n",
              "0  white    black                            kia motors america  inc  20500.0   \n",
              "1  white    beige                            kia motors america  inc  20800.0   \n",
              "2   gray    black             financial services remarketing (lease)  31900.0   \n",
              "3  white    black                            volvo na rep/world omni  27500.0   \n",
              "4   gray    black             financial services remarketing (lease)  66000.0   \n",
              "5   gray    black  enterprise vehicle exchange / tra / rental / t...  15350.0   \n",
              "6  black    black                              the hertz corporation  69000.0   \n",
              "7  black    black  enterprise vehicle exchange / tra / rental / t...  11900.0   \n",
              "8  white    black                                 audi mission viejo  32100.0   \n",
              "9    red    black                                 d/m auto sales inc  26300.0   \n",
              "\n",
              "   sellingprice                                 saledate  makeEnc  modelEnc  \\\n",
              "0       21500.0  Tue Dec 16 2014 12:30:00 GMT-0800 (PST)       24       637   \n",
              "1       21500.0  Tue Dec 16 2014 12:30:00 GMT-0800 (PST)       24       637   \n",
              "2       30000.0  Thu Jan 15 2015 04:30:00 GMT-0800 (PST)        3         8   \n",
              "3       27750.0  Thu Jan 29 2015 04:30:00 GMT-0800 (PST)       51       575   \n",
              "4       67000.0  Thu Dec 18 2014 12:30:00 GMT-0800 (PST)        3        33   \n",
              "5       10900.0  Tue Dec 30 2014 12:00:00 GMT-0800 (PST)       36        63   \n",
              "6       65000.0  Wed Dec 17 2014 12:30:00 GMT-0800 (PST)        3       406   \n",
              "7        9800.0  Tue Dec 16 2014 13:00:00 GMT-0800 (PST)        7       186   \n",
              "8       32250.0  Thu Dec 18 2014 12:00:00 GMT-0800 (PST)        2        46   \n",
              "9       17500.0  Tue Jan 20 2015 04:00:00 GMT-0800 (PST)        7       135   \n",
              "\n",
              "   trimEnc  bodyEnc  transmissionEnc  stateEnc  colorEnc  interiorEnc  \n",
              "0      818       35                0         2        17            1  \n",
              "1      818       35                0         2        17            0  \n",
              "2      253       36                0         2         7            1  \n",
              "3     1212       36                0         2        17            1  \n",
              "4      335       36                0         2         7            1  \n",
              "5      102       36                0         2         7            1  \n",
              "6      389       36                0         2         1            1  \n",
              "7       47       36                0         2         1            1  \n",
              "8       66       36                0         2        17            1  \n",
              "9      801        9                0         2        14            1  "
            ],
            "text/html": [
              "\n",
              "  <div id=\"df-187dbbe3-a4b8-424c-8170-be8e60ad8b0f\" class=\"colab-df-container\">\n",
              "    <div>\n",
              "<style scoped>\n",
              "    .dataframe tbody tr th:only-of-type {\n",
              "        vertical-align: middle;\n",
              "    }\n",
              "\n",
              "    .dataframe tbody tr th {\n",
              "        vertical-align: top;\n",
              "    }\n",
              "\n",
              "    .dataframe thead th {\n",
              "        text-align: right;\n",
              "    }\n",
              "</style>\n",
              "<table border=\"1\" class=\"dataframe\">\n",
              "  <thead>\n",
              "    <tr style=\"text-align: right;\">\n",
              "      <th></th>\n",
              "      <th>year</th>\n",
              "      <th>make</th>\n",
              "      <th>model</th>\n",
              "      <th>trim</th>\n",
              "      <th>body</th>\n",
              "      <th>transmission</th>\n",
              "      <th>vin</th>\n",
              "      <th>state</th>\n",
              "      <th>condition</th>\n",
              "      <th>odometer</th>\n",
              "      <th>color</th>\n",
              "      <th>interior</th>\n",
              "      <th>seller</th>\n",
              "      <th>mmr</th>\n",
              "      <th>sellingprice</th>\n",
              "      <th>saledate</th>\n",
              "      <th>makeEnc</th>\n",
              "      <th>modelEnc</th>\n",
              "      <th>trimEnc</th>\n",
              "      <th>bodyEnc</th>\n",
              "      <th>transmissionEnc</th>\n",
              "      <th>stateEnc</th>\n",
              "      <th>colorEnc</th>\n",
              "      <th>interiorEnc</th>\n",
              "    </tr>\n",
              "  </thead>\n",
              "  <tbody>\n",
              "    <tr>\n",
              "      <th>0</th>\n",
              "      <td>2015</td>\n",
              "      <td>Kia</td>\n",
              "      <td>Sorento</td>\n",
              "      <td>LX</td>\n",
              "      <td>SUV</td>\n",
              "      <td>automatic</td>\n",
              "      <td>5xyktca69fg566472</td>\n",
              "      <td>ca</td>\n",
              "      <td>5.0</td>\n",
              "      <td>16639.0</td>\n",
              "      <td>white</td>\n",
              "      <td>black</td>\n",
              "      <td>kia motors america  inc</td>\n",
              "      <td>20500.0</td>\n",
              "      <td>21500.0</td>\n",
              "      <td>Tue Dec 16 2014 12:30:00 GMT-0800 (PST)</td>\n",
              "      <td>24</td>\n",
              "      <td>637</td>\n",
              "      <td>818</td>\n",
              "      <td>35</td>\n",
              "      <td>0</td>\n",
              "      <td>2</td>\n",
              "      <td>17</td>\n",
              "      <td>1</td>\n",
              "    </tr>\n",
              "    <tr>\n",
              "      <th>1</th>\n",
              "      <td>2015</td>\n",
              "      <td>Kia</td>\n",
              "      <td>Sorento</td>\n",
              "      <td>LX</td>\n",
              "      <td>SUV</td>\n",
              "      <td>automatic</td>\n",
              "      <td>5xyktca69fg561319</td>\n",
              "      <td>ca</td>\n",
              "      <td>5.0</td>\n",
              "      <td>9393.0</td>\n",
              "      <td>white</td>\n",
              "      <td>beige</td>\n",
              "      <td>kia motors america  inc</td>\n",
              "      <td>20800.0</td>\n",
              "      <td>21500.0</td>\n",
              "      <td>Tue Dec 16 2014 12:30:00 GMT-0800 (PST)</td>\n",
              "      <td>24</td>\n",
              "      <td>637</td>\n",
              "      <td>818</td>\n",
              "      <td>35</td>\n",
              "      <td>0</td>\n",
              "      <td>2</td>\n",
              "      <td>17</td>\n",
              "      <td>0</td>\n",
              "    </tr>\n",
              "    <tr>\n",
              "      <th>2</th>\n",
              "      <td>2014</td>\n",
              "      <td>BMW</td>\n",
              "      <td>3 Series</td>\n",
              "      <td>328i SULEV</td>\n",
              "      <td>Sedan</td>\n",
              "      <td>automatic</td>\n",
              "      <td>wba3c1c51ek116351</td>\n",
              "      <td>ca</td>\n",
              "      <td>45.0</td>\n",
              "      <td>1331.0</td>\n",
              "      <td>gray</td>\n",
              "      <td>black</td>\n",
              "      <td>financial services remarketing (lease)</td>\n",
              "      <td>31900.0</td>\n",
              "      <td>30000.0</td>\n",
              "      <td>Thu Jan 15 2015 04:30:00 GMT-0800 (PST)</td>\n",
              "      <td>3</td>\n",
              "      <td>8</td>\n",
              "      <td>253</td>\n",
              "      <td>36</td>\n",
              "      <td>0</td>\n",
              "      <td>2</td>\n",
              "      <td>7</td>\n",
              "      <td>1</td>\n",
              "    </tr>\n",
              "    <tr>\n",
              "      <th>3</th>\n",
              "      <td>2015</td>\n",
              "      <td>Volvo</td>\n",
              "      <td>S60</td>\n",
              "      <td>T5</td>\n",
              "      <td>Sedan</td>\n",
              "      <td>automatic</td>\n",
              "      <td>yv1612tb4f1310987</td>\n",
              "      <td>ca</td>\n",
              "      <td>41.0</td>\n",
              "      <td>14282.0</td>\n",
              "      <td>white</td>\n",
              "      <td>black</td>\n",
              "      <td>volvo na rep/world omni</td>\n",
              "      <td>27500.0</td>\n",
              "      <td>27750.0</td>\n",
              "      <td>Thu Jan 29 2015 04:30:00 GMT-0800 (PST)</td>\n",
              "      <td>51</td>\n",
              "      <td>575</td>\n",
              "      <td>1212</td>\n",
              "      <td>36</td>\n",
              "      <td>0</td>\n",
              "      <td>2</td>\n",
              "      <td>17</td>\n",
              "      <td>1</td>\n",
              "    </tr>\n",
              "    <tr>\n",
              "      <th>4</th>\n",
              "      <td>2014</td>\n",
              "      <td>BMW</td>\n",
              "      <td>6 Series Gran Coupe</td>\n",
              "      <td>650i</td>\n",
              "      <td>Sedan</td>\n",
              "      <td>automatic</td>\n",
              "      <td>wba6b2c57ed129731</td>\n",
              "      <td>ca</td>\n",
              "      <td>43.0</td>\n",
              "      <td>2641.0</td>\n",
              "      <td>gray</td>\n",
              "      <td>black</td>\n",
              "      <td>financial services remarketing (lease)</td>\n",
              "      <td>66000.0</td>\n",
              "      <td>67000.0</td>\n",
              "      <td>Thu Dec 18 2014 12:30:00 GMT-0800 (PST)</td>\n",
              "      <td>3</td>\n",
              "      <td>33</td>\n",
              "      <td>335</td>\n",
              "      <td>36</td>\n",
              "      <td>0</td>\n",
              "      <td>2</td>\n",
              "      <td>7</td>\n",
              "      <td>1</td>\n",
              "    </tr>\n",
              "    <tr>\n",
              "      <th>5</th>\n",
              "      <td>2015</td>\n",
              "      <td>Nissan</td>\n",
              "      <td>Altima</td>\n",
              "      <td>2.5 S</td>\n",
              "      <td>Sedan</td>\n",
              "      <td>automatic</td>\n",
              "      <td>1n4al3ap1fn326013</td>\n",
              "      <td>ca</td>\n",
              "      <td>1.0</td>\n",
              "      <td>5554.0</td>\n",
              "      <td>gray</td>\n",
              "      <td>black</td>\n",
              "      <td>enterprise vehicle exchange / tra / rental / t...</td>\n",
              "      <td>15350.0</td>\n",
              "      <td>10900.0</td>\n",
              "      <td>Tue Dec 30 2014 12:00:00 GMT-0800 (PST)</td>\n",
              "      <td>36</td>\n",
              "      <td>63</td>\n",
              "      <td>102</td>\n",
              "      <td>36</td>\n",
              "      <td>0</td>\n",
              "      <td>2</td>\n",
              "      <td>7</td>\n",
              "      <td>1</td>\n",
              "    </tr>\n",
              "    <tr>\n",
              "      <th>6</th>\n",
              "      <td>2014</td>\n",
              "      <td>BMW</td>\n",
              "      <td>M5</td>\n",
              "      <td>Base</td>\n",
              "      <td>Sedan</td>\n",
              "      <td>automatic</td>\n",
              "      <td>wbsfv9c51ed593089</td>\n",
              "      <td>ca</td>\n",
              "      <td>34.0</td>\n",
              "      <td>14943.0</td>\n",
              "      <td>black</td>\n",
              "      <td>black</td>\n",
              "      <td>the hertz corporation</td>\n",
              "      <td>69000.0</td>\n",
              "      <td>65000.0</td>\n",
              "      <td>Wed Dec 17 2014 12:30:00 GMT-0800 (PST)</td>\n",
              "      <td>3</td>\n",
              "      <td>406</td>\n",
              "      <td>389</td>\n",
              "      <td>36</td>\n",
              "      <td>0</td>\n",
              "      <td>2</td>\n",
              "      <td>1</td>\n",
              "      <td>1</td>\n",
              "    </tr>\n",
              "    <tr>\n",
              "      <th>7</th>\n",
              "      <td>2014</td>\n",
              "      <td>Chevrolet</td>\n",
              "      <td>Cruze</td>\n",
              "      <td>1LT</td>\n",
              "      <td>Sedan</td>\n",
              "      <td>automatic</td>\n",
              "      <td>1g1pc5sb2e7128460</td>\n",
              "      <td>ca</td>\n",
              "      <td>2.0</td>\n",
              "      <td>28617.0</td>\n",
              "      <td>black</td>\n",
              "      <td>black</td>\n",
              "      <td>enterprise vehicle exchange / tra / rental / t...</td>\n",
              "      <td>11900.0</td>\n",
              "      <td>9800.0</td>\n",
              "      <td>Tue Dec 16 2014 13:00:00 GMT-0800 (PST)</td>\n",
              "      <td>7</td>\n",
              "      <td>186</td>\n",
              "      <td>47</td>\n",
              "      <td>36</td>\n",
              "      <td>0</td>\n",
              "      <td>2</td>\n",
              "      <td>1</td>\n",
              "      <td>1</td>\n",
              "    </tr>\n",
              "    <tr>\n",
              "      <th>8</th>\n",
              "      <td>2014</td>\n",
              "      <td>Audi</td>\n",
              "      <td>A4</td>\n",
              "      <td>2.0T Premium Plus quattro</td>\n",
              "      <td>Sedan</td>\n",
              "      <td>automatic</td>\n",
              "      <td>wauffafl3en030343</td>\n",
              "      <td>ca</td>\n",
              "      <td>42.0</td>\n",
              "      <td>9557.0</td>\n",
              "      <td>white</td>\n",
              "      <td>black</td>\n",
              "      <td>audi mission viejo</td>\n",
              "      <td>32100.0</td>\n",
              "      <td>32250.0</td>\n",
              "      <td>Thu Dec 18 2014 12:00:00 GMT-0800 (PST)</td>\n",
              "      <td>2</td>\n",
              "      <td>46</td>\n",
              "      <td>66</td>\n",
              "      <td>36</td>\n",
              "      <td>0</td>\n",
              "      <td>2</td>\n",
              "      <td>17</td>\n",
              "      <td>1</td>\n",
              "    </tr>\n",
              "    <tr>\n",
              "      <th>9</th>\n",
              "      <td>2014</td>\n",
              "      <td>Chevrolet</td>\n",
              "      <td>Camaro</td>\n",
              "      <td>LT</td>\n",
              "      <td>Convertible</td>\n",
              "      <td>automatic</td>\n",
              "      <td>2g1fb3d37e9218789</td>\n",
              "      <td>ca</td>\n",
              "      <td>3.0</td>\n",
              "      <td>4809.0</td>\n",
              "      <td>red</td>\n",
              "      <td>black</td>\n",
              "      <td>d/m auto sales inc</td>\n",
              "      <td>26300.0</td>\n",
              "      <td>17500.0</td>\n",
              "      <td>Tue Jan 20 2015 04:00:00 GMT-0800 (PST)</td>\n",
              "      <td>7</td>\n",
              "      <td>135</td>\n",
              "      <td>801</td>\n",
              "      <td>9</td>\n",
              "      <td>0</td>\n",
              "      <td>2</td>\n",
              "      <td>14</td>\n",
              "      <td>1</td>\n",
              "    </tr>\n",
              "  </tbody>\n",
              "</table>\n",
              "</div>\n",
              "    <div class=\"colab-df-buttons\">\n",
              "\n",
              "  <div class=\"colab-df-container\">\n",
              "    <button class=\"colab-df-convert\" onclick=\"convertToInteractive('df-187dbbe3-a4b8-424c-8170-be8e60ad8b0f')\"\n",
              "            title=\"Convert this dataframe to an interactive table.\"\n",
              "            style=\"display:none;\">\n",
              "\n",
              "  <svg xmlns=\"http://www.w3.org/2000/svg\" height=\"24px\" viewBox=\"0 -960 960 960\">\n",
              "    <path d=\"M120-120v-720h720v720H120Zm60-500h600v-160H180v160Zm220 220h160v-160H400v160Zm0 220h160v-160H400v160ZM180-400h160v-160H180v160Zm440 0h160v-160H620v160ZM180-180h160v-160H180v160Zm440 0h160v-160H620v160Z\"/>\n",
              "  </svg>\n",
              "    </button>\n",
              "\n",
              "  <style>\n",
              "    .colab-df-container {\n",
              "      display:flex;\n",
              "      gap: 12px;\n",
              "    }\n",
              "\n",
              "    .colab-df-convert {\n",
              "      background-color: #E8F0FE;\n",
              "      border: none;\n",
              "      border-radius: 50%;\n",
              "      cursor: pointer;\n",
              "      display: none;\n",
              "      fill: #1967D2;\n",
              "      height: 32px;\n",
              "      padding: 0 0 0 0;\n",
              "      width: 32px;\n",
              "    }\n",
              "\n",
              "    .colab-df-convert:hover {\n",
              "      background-color: #E2EBFA;\n",
              "      box-shadow: 0px 1px 2px rgba(60, 64, 67, 0.3), 0px 1px 3px 1px rgba(60, 64, 67, 0.15);\n",
              "      fill: #174EA6;\n",
              "    }\n",
              "\n",
              "    .colab-df-buttons div {\n",
              "      margin-bottom: 4px;\n",
              "    }\n",
              "\n",
              "    [theme=dark] .colab-df-convert {\n",
              "      background-color: #3B4455;\n",
              "      fill: #D2E3FC;\n",
              "    }\n",
              "\n",
              "    [theme=dark] .colab-df-convert:hover {\n",
              "      background-color: #434B5C;\n",
              "      box-shadow: 0px 1px 3px 1px rgba(0, 0, 0, 0.15);\n",
              "      filter: drop-shadow(0px 1px 2px rgba(0, 0, 0, 0.3));\n",
              "      fill: #FFFFFF;\n",
              "    }\n",
              "  </style>\n",
              "\n",
              "    <script>\n",
              "      const buttonEl =\n",
              "        document.querySelector('#df-187dbbe3-a4b8-424c-8170-be8e60ad8b0f button.colab-df-convert');\n",
              "      buttonEl.style.display =\n",
              "        google.colab.kernel.accessAllowed ? 'block' : 'none';\n",
              "\n",
              "      async function convertToInteractive(key) {\n",
              "        const element = document.querySelector('#df-187dbbe3-a4b8-424c-8170-be8e60ad8b0f');\n",
              "        const dataTable =\n",
              "          await google.colab.kernel.invokeFunction('convertToInteractive',\n",
              "                                                    [key], {});\n",
              "        if (!dataTable) return;\n",
              "\n",
              "        const docLinkHtml = 'Like what you see? Visit the ' +\n",
              "          '<a target=\"_blank\" href=https://colab.research.google.com/notebooks/data_table.ipynb>data table notebook</a>'\n",
              "          + ' to learn more about interactive tables.';\n",
              "        element.innerHTML = '';\n",
              "        dataTable['output_type'] = 'display_data';\n",
              "        await google.colab.output.renderOutput(dataTable, element);\n",
              "        const docLink = document.createElement('div');\n",
              "        docLink.innerHTML = docLinkHtml;\n",
              "        element.appendChild(docLink);\n",
              "      }\n",
              "    </script>\n",
              "  </div>\n",
              "\n",
              "\n",
              "<div id=\"df-b09b60b5-9245-4284-9c70-cd658aedb5d7\">\n",
              "  <button class=\"colab-df-quickchart\" onclick=\"quickchart('df-b09b60b5-9245-4284-9c70-cd658aedb5d7')\"\n",
              "            title=\"Suggest charts\"\n",
              "            style=\"display:none;\">\n",
              "\n",
              "<svg xmlns=\"http://www.w3.org/2000/svg\" height=\"24px\"viewBox=\"0 0 24 24\"\n",
              "     width=\"24px\">\n",
              "    <g>\n",
              "        <path d=\"M19 3H5c-1.1 0-2 .9-2 2v14c0 1.1.9 2 2 2h14c1.1 0 2-.9 2-2V5c0-1.1-.9-2-2-2zM9 17H7v-7h2v7zm4 0h-2V7h2v10zm4 0h-2v-4h2v4z\"/>\n",
              "    </g>\n",
              "</svg>\n",
              "  </button>\n",
              "\n",
              "<style>\n",
              "  .colab-df-quickchart {\n",
              "      --bg-color: #E8F0FE;\n",
              "      --fill-color: #1967D2;\n",
              "      --hover-bg-color: #E2EBFA;\n",
              "      --hover-fill-color: #174EA6;\n",
              "      --disabled-fill-color: #AAA;\n",
              "      --disabled-bg-color: #DDD;\n",
              "  }\n",
              "\n",
              "  [theme=dark] .colab-df-quickchart {\n",
              "      --bg-color: #3B4455;\n",
              "      --fill-color: #D2E3FC;\n",
              "      --hover-bg-color: #434B5C;\n",
              "      --hover-fill-color: #FFFFFF;\n",
              "      --disabled-bg-color: #3B4455;\n",
              "      --disabled-fill-color: #666;\n",
              "  }\n",
              "\n",
              "  .colab-df-quickchart {\n",
              "    background-color: var(--bg-color);\n",
              "    border: none;\n",
              "    border-radius: 50%;\n",
              "    cursor: pointer;\n",
              "    display: none;\n",
              "    fill: var(--fill-color);\n",
              "    height: 32px;\n",
              "    padding: 0;\n",
              "    width: 32px;\n",
              "  }\n",
              "\n",
              "  .colab-df-quickchart:hover {\n",
              "    background-color: var(--hover-bg-color);\n",
              "    box-shadow: 0 1px 2px rgba(60, 64, 67, 0.3), 0 1px 3px 1px rgba(60, 64, 67, 0.15);\n",
              "    fill: var(--button-hover-fill-color);\n",
              "  }\n",
              "\n",
              "  .colab-df-quickchart-complete:disabled,\n",
              "  .colab-df-quickchart-complete:disabled:hover {\n",
              "    background-color: var(--disabled-bg-color);\n",
              "    fill: var(--disabled-fill-color);\n",
              "    box-shadow: none;\n",
              "  }\n",
              "\n",
              "  .colab-df-spinner {\n",
              "    border: 2px solid var(--fill-color);\n",
              "    border-color: transparent;\n",
              "    border-bottom-color: var(--fill-color);\n",
              "    animation:\n",
              "      spin 1s steps(1) infinite;\n",
              "  }\n",
              "\n",
              "  @keyframes spin {\n",
              "    0% {\n",
              "      border-color: transparent;\n",
              "      border-bottom-color: var(--fill-color);\n",
              "      border-left-color: var(--fill-color);\n",
              "    }\n",
              "    20% {\n",
              "      border-color: transparent;\n",
              "      border-left-color: var(--fill-color);\n",
              "      border-top-color: var(--fill-color);\n",
              "    }\n",
              "    30% {\n",
              "      border-color: transparent;\n",
              "      border-left-color: var(--fill-color);\n",
              "      border-top-color: var(--fill-color);\n",
              "      border-right-color: var(--fill-color);\n",
              "    }\n",
              "    40% {\n",
              "      border-color: transparent;\n",
              "      border-right-color: var(--fill-color);\n",
              "      border-top-color: var(--fill-color);\n",
              "    }\n",
              "    60% {\n",
              "      border-color: transparent;\n",
              "      border-right-color: var(--fill-color);\n",
              "    }\n",
              "    80% {\n",
              "      border-color: transparent;\n",
              "      border-right-color: var(--fill-color);\n",
              "      border-bottom-color: var(--fill-color);\n",
              "    }\n",
              "    90% {\n",
              "      border-color: transparent;\n",
              "      border-bottom-color: var(--fill-color);\n",
              "    }\n",
              "  }\n",
              "</style>\n",
              "\n",
              "  <script>\n",
              "    async function quickchart(key) {\n",
              "      const quickchartButtonEl =\n",
              "        document.querySelector('#' + key + ' button');\n",
              "      quickchartButtonEl.disabled = true;  // To prevent multiple clicks.\n",
              "      quickchartButtonEl.classList.add('colab-df-spinner');\n",
              "      try {\n",
              "        const charts = await google.colab.kernel.invokeFunction(\n",
              "            'suggestCharts', [key], {});\n",
              "      } catch (error) {\n",
              "        console.error('Error during call to suggestCharts:', error);\n",
              "      }\n",
              "      quickchartButtonEl.classList.remove('colab-df-spinner');\n",
              "      quickchartButtonEl.classList.add('colab-df-quickchart-complete');\n",
              "    }\n",
              "    (() => {\n",
              "      let quickchartButtonEl =\n",
              "        document.querySelector('#df-b09b60b5-9245-4284-9c70-cd658aedb5d7 button');\n",
              "      quickchartButtonEl.style.display =\n",
              "        google.colab.kernel.accessAllowed ? 'block' : 'none';\n",
              "    })();\n",
              "  </script>\n",
              "</div>\n",
              "    </div>\n",
              "  </div>\n"
            ],
            "application/vnd.google.colaboratory.intrinsic+json": {
              "type": "dataframe",
              "variable_name": "data"
            }
          },
          "metadata": {},
          "execution_count": 172
        }
      ]
    },
    {
      "cell_type": "code",
      "source": [
        "list(data.columns)"
      ],
      "metadata": {
        "id": "pTDS5-gVuXZ8",
        "colab": {
          "base_uri": "https://localhost:8080/"
        },
        "outputId": "df6cec2e-2b7f-4ccc-b930-b723737d0b8f"
      },
      "execution_count": null,
      "outputs": [
        {
          "output_type": "execute_result",
          "data": {
            "text/plain": [
              "['year',\n",
              " 'make',\n",
              " 'model',\n",
              " 'trim',\n",
              " 'body',\n",
              " 'transmission',\n",
              " 'vin',\n",
              " 'state',\n",
              " 'condition',\n",
              " 'odometer',\n",
              " 'color',\n",
              " 'interior',\n",
              " 'seller',\n",
              " 'mmr',\n",
              " 'sellingprice',\n",
              " 'saledate',\n",
              " 'makeEnc',\n",
              " 'modelEnc',\n",
              " 'trimEnc',\n",
              " 'bodyEnc',\n",
              " 'transmissionEnc',\n",
              " 'stateEnc',\n",
              " 'colorEnc',\n",
              " 'interiorEnc']"
            ]
          },
          "metadata": {},
          "execution_count": 173
        }
      ]
    },
    {
      "cell_type": "code",
      "source": [
        "#reorder columns\n",
        "data = data[['year',\n",
        " 'make',\n",
        " 'makeEnc',\n",
        " 'model',\n",
        " 'modelEnc',\n",
        " 'trim',\n",
        " 'trimEnc',\n",
        " 'body',\n",
        " 'bodyEnc',\n",
        " 'transmission',\n",
        " 'transmissionEnc',\n",
        " 'vin',\n",
        " 'state',\n",
        " 'stateEnc',\n",
        " 'condition',\n",
        " 'odometer',\n",
        " 'color',\n",
        " 'colorEnc',\n",
        " 'interior',\n",
        " 'interiorEnc',\n",
        " 'seller',\n",
        " 'mmr',\n",
        " 'sellingprice',\n",
        " 'saledate']]"
      ],
      "metadata": {
        "id": "vZZrm1VZ6OAa"
      },
      "execution_count": null,
      "outputs": []
    },
    {
      "cell_type": "code",
      "source": [
        "#remove object columns, save into new dataset, and convert to numeric\n",
        "data = data[['year',\n",
        " 'makeEnc',\n",
        " 'modelEnc',\n",
        " 'trimEnc',\n",
        " 'bodyEnc',\n",
        " 'transmissionEnc',\n",
        " 'condition',\n",
        " 'odometer',\n",
        " 'colorEnc',\n",
        " 'interiorEnc',\n",
        " 'mmr',\n",
        " 'sellingprice']]\n",
        "\n",
        "data = data.apply(pd.to_numeric)\n",
        "data.info()"
      ],
      "metadata": {
        "id": "46ym-1va6PjH",
        "colab": {
          "base_uri": "https://localhost:8080/"
        },
        "outputId": "88f7c9cc-49ea-405d-f388-a88c5edcd4d9"
      },
      "execution_count": null,
      "outputs": [
        {
          "output_type": "stream",
          "name": "stdout",
          "text": [
            "<class 'pandas.core.frame.DataFrame'>\n",
            "Index: 472325 entries, 0 to 558836\n",
            "Data columns (total 12 columns):\n",
            " #   Column           Non-Null Count   Dtype  \n",
            "---  ------           --------------   -----  \n",
            " 0   year             472325 non-null  int64  \n",
            " 1   makeEnc          472325 non-null  int64  \n",
            " 2   modelEnc         472325 non-null  int64  \n",
            " 3   trimEnc          472325 non-null  int64  \n",
            " 4   bodyEnc          472325 non-null  int64  \n",
            " 5   transmissionEnc  472325 non-null  int64  \n",
            " 6   condition        472325 non-null  float64\n",
            " 7   odometer         472325 non-null  float64\n",
            " 8   colorEnc         472325 non-null  int64  \n",
            " 9   interiorEnc      472325 non-null  int64  \n",
            " 10  mmr              472325 non-null  float64\n",
            " 11  sellingprice     472325 non-null  float64\n",
            "dtypes: float64(4), int64(8)\n",
            "memory usage: 46.8 MB\n"
          ]
        }
      ]
    },
    {
      "cell_type": "code",
      "source": [
        "# Selecting which columns the model should focus on\n",
        "from sklearn.model_selection import train_test_split\n",
        "df_feat = data[['year',\n",
        "'makeEnc',\n",
        "'modelEnc',\n",
        "'trimEnc',\n",
        "'bodyEnc',\n",
        "'transmissionEnc',\n",
        "'condition',\n",
        "'odometer',\n",
        "'colorEnc',\n",
        "'mmr',\n",
        "'sellingprice']]"
      ],
      "metadata": {
        "id": "2HsRBScWRcmi"
      },
      "execution_count": null,
      "outputs": []
    },
    {
      "cell_type": "code",
      "source": [
        "# Allocating X to inputs (make, model, etc) and y to output (estimated value)\n",
        "X = df_feat.iloc[:,0:-2]\n",
        "y = df_feat.iloc[:,-1:,]"
      ],
      "metadata": {
        "id": "Jbjx6gmGSW52"
      },
      "execution_count": null,
      "outputs": []
    },
    {
      "cell_type": "code",
      "source": [
        "print(X)\n",
        "print(y)"
      ],
      "metadata": {
        "colab": {
          "base_uri": "https://localhost:8080/"
        },
        "id": "LTse2fXizW5y",
        "outputId": "1743f5be-4932-467a-eaf4-d253cec8f4bd"
      },
      "execution_count": null,
      "outputs": [
        {
          "output_type": "stream",
          "name": "stdout",
          "text": [
            "        year  makeEnc  modelEnc  trimEnc  bodyEnc  transmissionEnc  condition  \\\n",
            "0       2015       24       637      818       35                0        5.0   \n",
            "1       2015       24       637      818       35                0        5.0   \n",
            "2       2014        3         8      253       36                0       45.0   \n",
            "3       2015       51       575     1212       36                0       41.0   \n",
            "4       2014        3        33      335       36                0       43.0   \n",
            "...      ...      ...       ...      ...      ...              ...        ...   \n",
            "558831  2011        3        25      316       36                0       39.0   \n",
            "558833  2012       41         6      926       11                0        5.0   \n",
            "558834  2012        3       722     1489       35                0       48.0   \n",
            "558835  2015       36        63      102       76                0       38.0   \n",
            "558836  2014       14       256     1394       38                0       34.0   \n",
            "\n",
            "        odometer  colorEnc  \n",
            "0        16639.0        17  \n",
            "1         9393.0        17  \n",
            "2         1331.0         7  \n",
            "3        14282.0        17  \n",
            "4         2641.0         7  \n",
            "...          ...       ...  \n",
            "558831   66403.0        17  \n",
            "558833   54393.0        17  \n",
            "558834   50561.0         1  \n",
            "558835   16658.0        17  \n",
            "558836   15008.0         7  \n",
            "\n",
            "[472325 rows x 9 columns]\n",
            "        sellingprice\n",
            "0            21500.0\n",
            "1            21500.0\n",
            "2            30000.0\n",
            "3            27750.0\n",
            "4            67000.0\n",
            "...              ...\n",
            "558831       22800.0\n",
            "558833       30800.0\n",
            "558834       34000.0\n",
            "558835       11100.0\n",
            "558836       26700.0\n",
            "\n",
            "[472325 rows x 1 columns]\n"
          ]
        }
      ]
    },
    {
      "cell_type": "code",
      "source": [
        "# Training and testing the model\n",
        "X_train, X_test, y_train, y_test = train_test_split(X, y, random_state=5,test_size=0.3)"
      ],
      "metadata": {
        "id": "ZqSHmjpnSZ6h"
      },
      "execution_count": null,
      "outputs": []
    },
    {
      "cell_type": "code",
      "source": [
        "# Applying Linear Regression\n",
        "from sklearn.linear_model import LinearRegression\n",
        "model = LinearRegression()\n",
        "model.fit(X_train, y_train)"
      ],
      "metadata": {
        "id": "54xmd3NtSdIr",
        "colab": {
          "base_uri": "https://localhost:8080/",
          "height": 75
        },
        "outputId": "480c1332-1eee-4e78-ea88-1e39d760d52f"
      },
      "execution_count": null,
      "outputs": [
        {
          "output_type": "execute_result",
          "data": {
            "text/plain": [
              "LinearRegression()"
            ],
            "text/html": [
              "<style>#sk-container-id-7 {color: black;background-color: white;}#sk-container-id-7 pre{padding: 0;}#sk-container-id-7 div.sk-toggleable {background-color: white;}#sk-container-id-7 label.sk-toggleable__label {cursor: pointer;display: block;width: 100%;margin-bottom: 0;padding: 0.3em;box-sizing: border-box;text-align: center;}#sk-container-id-7 label.sk-toggleable__label-arrow:before {content: \"▸\";float: left;margin-right: 0.25em;color: #696969;}#sk-container-id-7 label.sk-toggleable__label-arrow:hover:before {color: black;}#sk-container-id-7 div.sk-estimator:hover label.sk-toggleable__label-arrow:before {color: black;}#sk-container-id-7 div.sk-toggleable__content {max-height: 0;max-width: 0;overflow: hidden;text-align: left;background-color: #f0f8ff;}#sk-container-id-7 div.sk-toggleable__content pre {margin: 0.2em;color: black;border-radius: 0.25em;background-color: #f0f8ff;}#sk-container-id-7 input.sk-toggleable__control:checked~div.sk-toggleable__content {max-height: 200px;max-width: 100%;overflow: auto;}#sk-container-id-7 input.sk-toggleable__control:checked~label.sk-toggleable__label-arrow:before {content: \"▾\";}#sk-container-id-7 div.sk-estimator input.sk-toggleable__control:checked~label.sk-toggleable__label {background-color: #d4ebff;}#sk-container-id-7 div.sk-label input.sk-toggleable__control:checked~label.sk-toggleable__label {background-color: #d4ebff;}#sk-container-id-7 input.sk-hidden--visually {border: 0;clip: rect(1px 1px 1px 1px);clip: rect(1px, 1px, 1px, 1px);height: 1px;margin: -1px;overflow: hidden;padding: 0;position: absolute;width: 1px;}#sk-container-id-7 div.sk-estimator {font-family: monospace;background-color: #f0f8ff;border: 1px dotted black;border-radius: 0.25em;box-sizing: border-box;margin-bottom: 0.5em;}#sk-container-id-7 div.sk-estimator:hover {background-color: #d4ebff;}#sk-container-id-7 div.sk-parallel-item::after {content: \"\";width: 100%;border-bottom: 1px solid gray;flex-grow: 1;}#sk-container-id-7 div.sk-label:hover label.sk-toggleable__label {background-color: #d4ebff;}#sk-container-id-7 div.sk-serial::before {content: \"\";position: absolute;border-left: 1px solid gray;box-sizing: border-box;top: 0;bottom: 0;left: 50%;z-index: 0;}#sk-container-id-7 div.sk-serial {display: flex;flex-direction: column;align-items: center;background-color: white;padding-right: 0.2em;padding-left: 0.2em;position: relative;}#sk-container-id-7 div.sk-item {position: relative;z-index: 1;}#sk-container-id-7 div.sk-parallel {display: flex;align-items: stretch;justify-content: center;background-color: white;position: relative;}#sk-container-id-7 div.sk-item::before, #sk-container-id-7 div.sk-parallel-item::before {content: \"\";position: absolute;border-left: 1px solid gray;box-sizing: border-box;top: 0;bottom: 0;left: 50%;z-index: -1;}#sk-container-id-7 div.sk-parallel-item {display: flex;flex-direction: column;z-index: 1;position: relative;background-color: white;}#sk-container-id-7 div.sk-parallel-item:first-child::after {align-self: flex-end;width: 50%;}#sk-container-id-7 div.sk-parallel-item:last-child::after {align-self: flex-start;width: 50%;}#sk-container-id-7 div.sk-parallel-item:only-child::after {width: 0;}#sk-container-id-7 div.sk-dashed-wrapped {border: 1px dashed gray;margin: 0 0.4em 0.5em 0.4em;box-sizing: border-box;padding-bottom: 0.4em;background-color: white;}#sk-container-id-7 div.sk-label label {font-family: monospace;font-weight: bold;display: inline-block;line-height: 1.2em;}#sk-container-id-7 div.sk-label-container {text-align: center;}#sk-container-id-7 div.sk-container {/* jupyter's `normalize.less` sets `[hidden] { display: none; }` but bootstrap.min.css set `[hidden] { display: none !important; }` so we also need the `!important` here to be able to override the default hidden behavior on the sphinx rendered scikit-learn.org. See: https://github.com/scikit-learn/scikit-learn/issues/21755 */display: inline-block !important;position: relative;}#sk-container-id-7 div.sk-text-repr-fallback {display: none;}</style><div id=\"sk-container-id-7\" class=\"sk-top-container\"><div class=\"sk-text-repr-fallback\"><pre>LinearRegression()</pre><b>In a Jupyter environment, please rerun this cell to show the HTML representation or trust the notebook. <br />On GitHub, the HTML representation is unable to render, please try loading this page with nbviewer.org.</b></div><div class=\"sk-container\" hidden><div class=\"sk-item\"><div class=\"sk-estimator sk-toggleable\"><input class=\"sk-toggleable__control sk-hidden--visually\" id=\"sk-estimator-id-7\" type=\"checkbox\" checked><label for=\"sk-estimator-id-7\" class=\"sk-toggleable__label sk-toggleable__label-arrow\">LinearRegression</label><div class=\"sk-toggleable__content\"><pre>LinearRegression()</pre></div></div></div></div></div>"
            ]
          },
          "metadata": {},
          "execution_count": 180
        }
      ]
    },
    {
      "cell_type": "code",
      "source": [
        "# Linear Regression Formulae\n",
        "# y = a + B*X\n",
        "# a = model.intercept\n",
        "# B = model.coef_\n",
        "model.intercept_, model.coef_"
      ],
      "metadata": {
        "id": "PMJdwrdjSkEi",
        "colab": {
          "base_uri": "https://localhost:8080/"
        },
        "outputId": "2783c3f1-788a-4f69-f221-5db277af8552"
      },
      "execution_count": null,
      "outputs": [
        {
          "output_type": "execute_result",
          "data": {
            "text/plain": [
              "(array([-1512627.37450323]),\n",
              " array([[ 7.60936995e+02, -4.76223458e+01,  1.74548427e+00,\n",
              "         -3.00879620e-01, -3.20052009e+01, -4.37990005e+02,\n",
              "          8.94517155e+01, -5.79643728e-02, -2.83609092e+01]]))"
            ]
          },
          "metadata": {},
          "execution_count": 181
        }
      ]
    },
    {
      "cell_type": "code",
      "source": [
        "# Sample prediction\n",
        "y_pred = model.predict(X_test)"
      ],
      "metadata": {
        "id": "kFA0VJG0SnGJ"
      },
      "execution_count": null,
      "outputs": []
    },
    {
      "cell_type": "code",
      "source": [
        "# Checking validity of Model\n",
        "from sklearn.metrics import mean_squared_error\n",
        "from sklearn.metrics import mean_absolute_error\n",
        "mse = mean_squared_error(y_pred, y_test)\n",
        "sqrt_mse = np.sqrt(mse)\n",
        "mae = mean_absolute_error(y_pred, y_test)"
      ],
      "metadata": {
        "id": "SOjj9KiVSqkj"
      },
      "execution_count": null,
      "outputs": []
    },
    {
      "cell_type": "code",
      "source": [
        "print(f\"MSE : {mse:.3f}, MSE_SQRT : {sqrt_mse:.3f}, MAE : {mae:.3f}\")"
      ],
      "metadata": {
        "id": "Tpg2kgviSvPE",
        "colab": {
          "base_uri": "https://localhost:8080/"
        },
        "outputId": "f9cff357-44e8-49f3-990a-b085153fdde2"
      },
      "execution_count": null,
      "outputs": [
        {
          "output_type": "stream",
          "name": "stdout",
          "text": [
            "MSE : 55192377.820, MSE_SQRT : 7429.157, MAE : 5093.863\n"
          ]
        }
      ]
    },
    {
      "cell_type": "code",
      "source": [
        "r2 = model.score(X_test, y_test)\n",
        "print(f\"R2 score: {r2:.3f}\")"
      ],
      "metadata": {
        "id": "fkRjVNsxSyhn",
        "colab": {
          "base_uri": "https://localhost:8080/"
        },
        "outputId": "47c37d2f-f98f-4a9b-d192-e9852d244200"
      },
      "execution_count": null,
      "outputs": [
        {
          "output_type": "stream",
          "name": "stdout",
          "text": [
            "R2 score: 0.399\n"
          ]
        }
      ]
    },
    {
      "cell_type": "code",
      "source": [
        "df_feat['sellingprice'].min(), df_feat['sellingprice'].max(),\n",
        "df_feat['sellingprice'].max()- df_feat['sellingprice'].min()"
      ],
      "metadata": {
        "id": "Q_9RgnVSS2rO",
        "colab": {
          "base_uri": "https://localhost:8080/"
        },
        "outputId": "1c20989c-6bbd-4c16-fb2e-b76d2a3d848b"
      },
      "execution_count": null,
      "outputs": [
        {
          "output_type": "execute_result",
          "data": {
            "text/plain": [
              "229999.0"
            ]
          },
          "metadata": {},
          "execution_count": 186
        }
      ]
    },
    {
      "cell_type": "code",
      "source": [
        "# Displaying all columns to make inputs easier\n",
        "df_feat.columns"
      ],
      "metadata": {
        "id": "jh-b2cGKS5wR",
        "colab": {
          "base_uri": "https://localhost:8080/"
        },
        "outputId": "01e626c2-5ac7-4074-9348-e789f7ec935e"
      },
      "execution_count": null,
      "outputs": [
        {
          "output_type": "execute_result",
          "data": {
            "text/plain": [
              "Index(['year', 'makeEnc', 'modelEnc', 'trimEnc', 'bodyEnc', 'transmissionEnc',\n",
              "       'condition', 'odometer', 'colorEnc', 'mmr', 'sellingprice'],\n",
              "      dtype='object')"
            ]
          },
          "metadata": {},
          "execution_count": 187
        }
      ]
    },
    {
      "cell_type": "code",
      "source": [
        "val = model.predict([[2015, 36, 63, 102, 36, 0, 44, 2300, 1]]) #change variables here to have different values on output, values represent each columns\n",
        "value = val[0][0]\n",
        "print(f'Predicted Value of Vehicle = ${value:.2f}')"
      ],
      "metadata": {
        "id": "aAAn-ff8S8Pr",
        "colab": {
          "base_uri": "https://localhost:8080/"
        },
        "outputId": "a7c99ed8-6ec6-4149-9b60-533b3f990f29"
      },
      "execution_count": null,
      "outputs": [
        {
          "output_type": "stream",
          "name": "stdout",
          "text": [
            "Predicted Value of Vehicle = $21647.55\n"
          ]
        }
      ]
    },
    {
      "cell_type": "code",
      "source": [
        "val = model.predict([[2015, 36, 63, 102, 36, 1, 12, 2300, 1]]) # same car but with transmission and condition changed\n",
        "value = val[0][0]\n",
        "print(f'Predicted Value of Vehicle = ${value:.2f}')"
      ],
      "metadata": {
        "colab": {
          "base_uri": "https://localhost:8080/"
        },
        "id": "HsOOVE8UF89V",
        "outputId": "3305c2a7-186a-4591-9af6-f1ff15dae305"
      },
      "execution_count": null,
      "outputs": [
        {
          "output_type": "stream",
          "name": "stdout",
          "text": [
            "Predicted Value of Vehicle = $18347.11\n"
          ]
        }
      ]
    }
  ]
}